{
  "cells": [
    {
      "cell_type": "markdown",
      "source": [
        "###Import packages"
      ],
      "metadata": {
        "id": "xR-ix_HC9Wj4"
      }
    },
    {
      "cell_type": "code",
      "execution_count": 2,
      "metadata": {
        "id": "LLTkOcRl6ZdE"
      },
      "outputs": [],
      "source": [
        "import numpy as np\n",
        "from scipy.io import wavfile"
      ]
    },
    {
      "cell_type": "markdown",
      "source": [
        "###Read all wav files"
      ],
      "metadata": {
        "id": "XIWLMROc9gTX"
      }
    }
  ],
  "metadata": {
    "kernelspec": {
      "display_name": "Python 3.10.2 64-bit",
      "language": "python",
      "name": "python3"
    },
    "language_info": {
      "codemirror_mode": {
        "name": "ipython",
        "version": 3
      },
      "file_extension": ".py",
      "mimetype": "text/x-python",
      "name": "python",
      "nbconvert_exporter": "python",
      "pygments_lexer": "ipython3",
      "version": "3.10.2"
    },
    "orig_nbformat": 4,
    "vscode": {
      "interpreter": {
        "hash": "26d76b55f9325f4f27256bdfc9e99d24d1e908ef2a76498c01122c3ae7872e40"
      }
    },
    "colab": {
      "provenance": []
    }
  },
  "nbformat": 4,
  "nbformat_minor": 0
}